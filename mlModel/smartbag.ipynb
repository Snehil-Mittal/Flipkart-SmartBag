{
  "nbformat": 4,
  "nbformat_minor": 0,
  "metadata": {
    "colab": {
      "name": "smartbag.ipynb",
      "private_outputs": true,
      "provenance": []
    },
    "kernelspec": {
      "name": "python3",
      "display_name": "Python 3"
    },
    "language_info": {
      "name": "python"
    },
    "accelerator": "GPU"
  },
  "cells": [
    {
      "cell_type": "code",
      "metadata": {
        "id": "1YFKbpcEg-GN"
      },
      "source": [
        "import seaborn as sns\n",
        "import matplotlib.pyplot as plt\n",
        "import pandas as pd\n",
        "import numpy as np\n",
        "import warnings\n",
        "warnings.simplefilter(\"ignore\")\n",
        "\n",
        "%matplotlib inline"
      ],
      "execution_count": null,
      "outputs": []
    },
    {
      "cell_type": "code",
      "metadata": {
        "id": "qd_P8fVGhcMR"
      },
      "source": [
        "#importing data file\n",
        "recomd=pd.read_csv(\"/content/drive/MyDrive/Akshat/products - Orders - products - Orders.csv\",names=['userId','productId','quantity','timestamp'])\n",
        "recomd=pd.DataFrame(recomd)\n",
        "recomd.head()\n"
      ],
      "execution_count": null,
      "outputs": []
    },
    {
      "cell_type": "code",
      "metadata": {
        "id": "sEP3gpIYhpZp"
      },
      "source": [
        "#dropping timestamp as its of no use\n",
        "recomd.drop(['timestamp'],inplace=True,axis=1)\n"
      ],
      "execution_count": null,
      "outputs": []
    },
    {
      "cell_type": "code",
      "metadata": {
        "id": "aZsMcp7BiaYu"
      },
      "source": [
        "#checking for blanks\n",
        "recomd.isnull().sum()\n",
        "#there are no blanks in data"
      ],
      "execution_count": null,
      "outputs": []
    },
    {
      "cell_type": "code",
      "metadata": {
        "id": "WWsItVXbiiZG"
      },
      "source": [
        "#No of unique customers and products\n",
        "print(\"Unique Customers: \",recomd.userId.nunique())\n",
        "print(\"Unique Products: \",recomd.productId.nunique())"
      ],
      "execution_count": null,
      "outputs": []
    },
    {
      "cell_type": "code",
      "metadata": {
        "id": "r6n0KrjPinC6"
      },
      "source": [
        "#Top users, rated good on average\n",
        "data_user_rate=pd.DataFrame(recomd.groupby('userId')['quantity'].agg(['mean','count']),\n",
        "                            columns=['mean','count']).sort_values(by=['count','mean'],ascending=False)[:20]\n",
        "data_user_rate.head(20)"
      ],
      "execution_count": null,
      "outputs": []
    },
    {
      "cell_type": "code",
      "metadata": {
        "id": "WubS38QtnKwr"
      },
      "source": [
        "\n",
        "#Wrodcloud of UserId\n",
        "from wordcloud import WordCloud\n",
        "data_user_word=recomd.groupby('userId').size().sort_values(ascending=False)\n",
        "data_user_word.index = data_user_word.index.map(str)\n",
        "wordcloud = WordCloud(background_color='white',random_state=1).generate_from_frequencies(data_user_word)\n",
        "plt.figure(figsize=(15,15))\n",
        "plt.imshow(wordcloud)\n",
        "plt.axis(\"off\")\n",
        "plt.title(\"Word Cloud UserId\",size=30)\n",
        "plt.show()"
      ],
      "execution_count": null,
      "outputs": []
    },
    {
      "cell_type": "code",
      "metadata": {
        "id": "vZB1FHFBnUPy"
      },
      "source": [
        "#Top products bought have been rated as good on average \n",
        "data_prod_rate=pd.DataFrame(recomd.groupby('productId')['quantity'].agg(['mean','count']),\n",
        "                            columns=['mean','count']).sort_values(by=['count','mean'],ascending=False)[:20]\n",
        "data_prod_rate.head(20)"
      ],
      "execution_count": null,
      "outputs": []
    },
    {
      "cell_type": "code",
      "metadata": {
        "id": "EW8s_XBFnaDJ"
      },
      "source": [
        "#Top 20 products basis no of ratings provided and average rating\n",
        "fig, ax1 = plt.subplots(figsize=(15,6))\n",
        "ax1.bar(data_prod_rate.index,data_prod_rate['count'],color='grey')\n",
        "plt.xticks(rotation=90)\n",
        "ax2 = ax1.twinx()\n",
        "ax2.plot(data_prod_rate.index,data_prod_rate['mean'],color='orange')\n",
        "plt.ylim(0, 5)\n",
        "plt.title(\"Top 20 productId and its mean quantity\")\n",
        "plt.show()"
      ],
      "execution_count": null,
      "outputs": []
    },
    {
      "cell_type": "code",
      "metadata": {
        "id": "9ae0f_2LnfPd"
      },
      "source": [
        "#Wrodcloud of productId\n",
        "data_prod_word=recomd.groupby('productId').size().sort_values(ascending=False)\n",
        "data_prod_word.index = data_prod_word.index.map(str)\n",
        "wordcloud = WordCloud(background_color='white',random_state=2).generate_from_frequencies(data_prod_word)\n",
        "plt.figure(figsize=(15,15))\n",
        "plt.imshow(wordcloud)\n",
        "plt.axis(\"off\")\n",
        "plt.title(\"Word Cloud productId\",size=30)\n",
        "plt.show()"
      ],
      "execution_count": null,
      "outputs": []
    },
    {
      "cell_type": "code",
      "metadata": {
        "id": "4Wy8LZVZniME"
      },
      "source": [
        "#Rating value_count, most ratings are either 4 or 5.\n",
        "print(recomd.quantity.value_counts())\n",
        "sns.catplot(\"quantity\",data=recomd,kind='count')"
      ],
      "execution_count": null,
      "outputs": []
    },
    {
      "cell_type": "code",
      "metadata": {
        "id": "U2Y7fqmVnoji"
      },
      "source": [
        "#Mean of Rating\n",
        "print(\"Mean of Rating:\",np.mean(recomd.quantity))\n",
        "#Median of Rating\n",
        "print(\"Median of Rating:\",np.median(recomd.quantity))"
      ],
      "execution_count": null,
      "outputs": []
    },
    {
      "cell_type": "code",
      "metadata": {
        "id": "Fa1mi3Ran0DD"
      },
      "source": [
        "data_flt=recomd.userId.value_counts()"
      ],
      "execution_count": null,
      "outputs": []
    },
    {
      "cell_type": "code",
      "metadata": {
        "id": "xflL79Apn3DF"
      },
      "source": [
        "data_flt[data_flt.values>=10].index.shape"
      ],
      "execution_count": null,
      "outputs": []
    },
    {
      "cell_type": "code",
      "metadata": {
        "id": "T_eVbBu3n5Zr"
      },
      "source": [
        "data_final=recomd[recomd['userId'].isin(data_flt.index)]"
      ],
      "execution_count": null,
      "outputs": []
    },
    {
      "cell_type": "code",
      "metadata": {
        "id": "-oEF-PA1n7dj"
      },
      "source": [
        "data_final.shape"
      ],
      "execution_count": null,
      "outputs": []
    },
    {
      "cell_type": "code",
      "metadata": {
        "id": "DO5o5FMtn9OU"
      },
      "source": [
        "print(\"No of users giving rating for atleast 40 products:\",(len(data_final)/len(recomd))*100)"
      ],
      "execution_count": null,
      "outputs": []
    },
    {
      "cell_type": "code",
      "metadata": {
        "id": "p36Hf7dKn_VG"
      },
      "source": [
        "\n",
        "#Rating value_count\n",
        "print(data_final.quantity.value_counts())\n"
      ],
      "execution_count": null,
      "outputs": []
    },
    {
      "cell_type": "code",
      "metadata": {
        "id": "Il3rPqWtoBqg"
      },
      "source": [
        "data_flt_prod=data_final.productId.value_counts()"
      ],
      "execution_count": null,
      "outputs": []
    },
    {
      "cell_type": "code",
      "metadata": {
        "id": "kCP7cwVUoUXj"
      },
      "source": [
        "print(\"Mean of Rating:\",np.mean(data_final.quantity))\n",
        "#Median of Rating\n",
        "print(\"Median of Rating:\",np.median(data_final.quantity))"
      ],
      "execution_count": null,
      "outputs": []
    },
    {
      "cell_type": "code",
      "metadata": {
        "id": "92uXob6voZsk"
      },
      "source": [
        "\n",
        "data_final_1=data_final[data_final['productId'].isin(data_flt_prod[data_flt_prod>=1].index)]"
      ],
      "execution_count": null,
      "outputs": []
    },
    {
      "cell_type": "code",
      "metadata": {
        "id": "lEyEeVLpoceB"
      },
      "source": [
        "data_final_1.groupby('productId').size().sort_values(ascending=False)"
      ],
      "execution_count": null,
      "outputs": []
    },
    {
      "cell_type": "code",
      "metadata": {
        "id": "xkS9LB63oebA"
      },
      "source": [
        "data_final_1.head(10)\n"
      ],
      "execution_count": null,
      "outputs": []
    },
    {
      "cell_type": "code",
      "metadata": {
        "id": "OIfLePApog_P"
      },
      "source": [
        "\n",
        "print(\"A user quantity atleast 50 times and each product is rated atleast 5 times:\"\n",
        "      ,(len(data_final_1)/len(recomd))*100)"
      ],
      "execution_count": null,
      "outputs": []
    },
    {
      "cell_type": "code",
      "metadata": {
        "id": "jeaNTi-donFC"
      },
      "source": [
        "print(\"Mean of Rating:\",np.mean(data_final_1.quantity))\n",
        "#Median of Rating\n",
        "print(\"Median of Rating:\",np.median(data_final_1.quantity))"
      ],
      "execution_count": null,
      "outputs": []
    },
    {
      "cell_type": "code",
      "metadata": {
        "id": "JGbi83XsotqC"
      },
      "source": [
        "print(data_final_1.quantity.value_counts())\n"
      ],
      "execution_count": null,
      "outputs": []
    },
    {
      "cell_type": "code",
      "metadata": {
        "id": "_wQRDe1_o2SM"
      },
      "source": [
        "final_ratings_matrix = pd.pivot_table(data_final_1,index='userId',columns='productId',values = 'quantity').fillna(0)"
      ],
      "execution_count": null,
      "outputs": []
    },
    {
      "cell_type": "code",
      "metadata": {
        "id": "W2zlUFxbo-PH"
      },
      "source": [
        "\n",
        "# Matrix with one row per 'Product' and one column per 'user' for Item-based CF\n",
        "final_ratings_matrix_T = final_ratings_matrix.transpose()\n",
        "final_ratings_matrix_T.head()"
      ],
      "execution_count": null,
      "outputs": []
    },
    {
      "cell_type": "code",
      "metadata": {
        "id": "NhTgO2v9pS6N"
      },
      "source": [
        "from sklearn.model_selection import train_test_split\n",
        "#Split the data randomnly into test and train datasets\n",
        "#Split the training and test data in the ratio 70:30\n",
        "train_data, test_data = train_test_split(data_final_1, test_size = 0.3, random_state=10)\n",
        "train_data.head()"
      ],
      "execution_count": null,
      "outputs": []
    },
    {
      "cell_type": "code",
      "metadata": {
        "id": "xfgnzknHtIO5"
      },
      "source": [
        "print(train_data.shape)\n",
        "print(test_data.shape)"
      ],
      "execution_count": null,
      "outputs": []
    },
    {
      "cell_type": "code",
      "metadata": {
        "id": "NxPBKFRZtKtF"
      },
      "source": [
        "#Count of user_id for each unique product as recommendation score \n",
        "train_data_grouped = train_data.groupby('productId').agg({'userId':'count','quantity':'mean'}).reset_index()\n",
        "train_data_grouped.rename(columns={'userId':'count','quantity':'mean'},inplace=True)\n",
        "train_data_grouped.head()"
      ],
      "execution_count": null,
      "outputs": []
    },
    {
      "cell_type": "code",
      "metadata": {
        "id": "ieWj8rDxtTeE"
      },
      "source": [
        "#Sort the songs on recommendation score \n",
        "train_data_sort = train_data_grouped.sort_values(['count'], ascending = 0) \n",
        "      \n",
        "#Generate a recommendation rank based upon score \n",
        "train_data_sort['Rank'] = train_data_sort['count'].rank(ascending=0, method='first') \n",
        "          \n",
        "#Get the top 5 recommendations \n",
        "popularity_recommendations = train_data_sort.head(5) \n",
        "popularity_recommendations"
      ],
      "execution_count": null,
      "outputs": []
    },
    {
      "cell_type": "code",
      "metadata": {
        "id": "mtd3b9zetWK1"
      },
      "source": [
        "\n",
        "# Use popularity based recommender model to make predictions\n",
        "def recommend(user_id):     \n",
        "    user_recommendations = popularity_recommendations \n",
        "          \n",
        "    #Add user_id column for which the recommendations are being generated \n",
        "    user_recommendations['userId'] = user_id \n",
        "      \n",
        "    #Bring user_id column to the front \n",
        "    cols = user_recommendations.columns.tolist() \n",
        "    cols = cols[-1:] + cols[:-1] \n",
        "    user_recommendations = user_recommendations[cols] \n",
        "          \n",
        "    return user_recommendations"
      ],
      "execution_count": null,
      "outputs": []
    },
    {
      "cell_type": "code",
      "metadata": {
        "id": "a0bdwGE3tYj7"
      },
      "source": [
        "find_recom = [1267,385,40]   # This list is user choice.\n",
        "for i in find_recom:\n",
        "    print(\"Here is the recommendation for the userId: \", i)\n",
        "    print(\"The products are most sold along with there mean rating:\\n\")\n",
        "    print(recommend(i))    \n",
        "    print(\"\\n\")"
      ],
      "execution_count": null,
      "outputs": []
    },
    {
      "cell_type": "code",
      "metadata": {
        "id": "l4-iQJp6tbA9"
      },
      "source": [
        "train_final_ratings_matrix = pd.pivot_table(train_data,index='userId',columns='productId',values = 'quantity').fillna(0)\n",
        "test_final_ratings_matrix = pd.pivot_table(test_data,index='userId',columns='productId',values = 'quantity').fillna(0)"
      ],
      "execution_count": null,
      "outputs": []
    },
    {
      "cell_type": "code",
      "metadata": {
        "id": "0QWd0gjvthpU"
      },
      "source": [
        "\n",
        "final_ratings_matrix['user_index'] = np.arange(0, final_ratings_matrix.shape[0], 1)\n",
        "train_final_ratings_matrix['user_index'] = np.arange(0, train_final_ratings_matrix.shape[0], 1)\n",
        "train_final_ratings_matrix.head(10)"
      ],
      "execution_count": null,
      "outputs": []
    },
    {
      "cell_type": "code",
      "metadata": {
        "id": "7mgxg2t3trGL"
      },
      "source": [
        "\n",
        "#Test Data\n",
        "test_final_ratings_matrix['user_index'] = np.arange(0, test_final_ratings_matrix.shape[0], 1)\n",
        "test_final_ratings_matrix.head()"
      ],
      "execution_count": null,
      "outputs": []
    },
    {
      "cell_type": "code",
      "metadata": {
        "id": "IuhbzqTJtuBt"
      },
      "source": [
        "\n",
        "#Complete data\n",
        "final_ratings_matrix.set_index(['user_index'], inplace=True)\n",
        "\n",
        "#Train data\n",
        "train_final_ratings_matrix.set_index(['user_index'], inplace=True)\n",
        "train_final_ratings_matrix.head()\n",
        "\n",
        "#Test Data\n",
        "test_final_ratings_matrix.set_index(['user_index'], inplace=True)\n",
        "test_final_ratings_matrix.head()"
      ],
      "execution_count": null,
      "outputs": []
    },
    {
      "cell_type": "code",
      "metadata": {
        "id": "YG2L-jyQtwz0"
      },
      "source": [
        "from scipy.sparse.linalg import svds\n",
        "# Singular Value Decomposition\n",
        "U, sigma, Vt = svds(train_final_ratings_matrix, k = 10)\n",
        "# Construct diagonal array in SVD\n",
        "sigma = np.diag(sigma)\n"
      ],
      "execution_count": null,
      "outputs": []
    },
    {
      "cell_type": "code",
      "metadata": {
        "id": "wAFmYnDpt0Il"
      },
      "source": [
        "train_predicted_ratings = np.dot(np.dot(U, sigma), Vt) \n",
        "\n",
        "# Predicted ratings\n",
        "train_preds_df = pd.DataFrame(train_predicted_ratings, columns = train_final_ratings_matrix.columns)\n",
        "train_preds_df.head()"
      ],
      "execution_count": null,
      "outputs": []
    },
    {
      "cell_type": "code",
      "metadata": {
        "id": "G52tag_lt24O"
      },
      "source": [
        "\n",
        "# Recommend the items with the highest predicted ratings\n",
        "\n",
        "def recommend_items(userID, final_ratings_matrix, preds_df, num_recommendations):\n",
        "      \n",
        "    user_idx = userID-1 # index starts at 0\n",
        "    \n",
        "    # Get and sort the user's ratings\n",
        "    sorted_user_ratings = final_ratings_matrix.iloc[user_idx].sort_values(ascending=False)\n",
        "    #sorted_user_ratings\n",
        "    sorted_user_predictions = preds_df.iloc[user_idx].sort_values(ascending=False)\n",
        "    #sorted_user_predictions\n",
        "\n",
        "    temp = pd.concat([sorted_user_ratings, sorted_user_predictions], axis=1)\n",
        "    temp.index.name = 'Recommended Items'\n",
        "    temp.columns = ['user_ratings', 'user_predictions']\n",
        "    \n",
        "    temp = temp.loc[temp.user_ratings == 0]   \n",
        "    temp = temp.sort_values('user_predictions', ascending=False)\n",
        "    print('\\nBelow are the recommended items for user(user_id = {}):\\n'.format(userID))\n",
        "    print(temp.head(num_recommendations))"
      ],
      "execution_count": null,
      "outputs": []
    },
    {
      "cell_type": "code",
      "metadata": {
        "id": "ltuhxY9zt7ak"
      },
      "source": [
        "\n",
        "#Enter 'userID' and 'num_recommendations' for the user #\n",
        "userID = 3\n",
        "num_recommendations = 5\n",
        "recommend_items(userID, train_final_ratings_matrix, train_preds_df, num_recommendations)"
      ],
      "execution_count": null,
      "outputs": []
    },
    {
      "cell_type": "code",
      "metadata": {
        "id": "leAcu_Eet-LI"
      },
      "source": [
        "# Average ACTUAL rating for each item\n",
        "test_final_ratings_matrix.mean().head()"
      ],
      "execution_count": null,
      "outputs": []
    },
    {
      "cell_type": "code",
      "metadata": {
        "id": "-kQhNMgcuAvm"
      },
      "source": [
        "\n",
        "# Singular Value Decomposition\n",
        "U_t, sigma_t, Vt_t = svds(test_final_ratings_matrix, k = 10)\n",
        "# Construct diagonal array in SVD\n",
        "sigma_t = np.diag(sigma_t)"
      ],
      "execution_count": null,
      "outputs": []
    },
    {
      "cell_type": "code",
      "metadata": {
        "id": "kAFQAI4suDIr"
      },
      "source": [
        "test_predicted_ratings = np.dot(np.dot(U_t, sigma_t), Vt_t) \n",
        "\n",
        "# Predicted ratings\n",
        "test_preds_df = pd.DataFrame(test_predicted_ratings, columns = test_final_ratings_matrix.columns)\n",
        "test_preds_df.head()"
      ],
      "execution_count": null,
      "outputs": []
    },
    {
      "cell_type": "code",
      "metadata": {
        "id": "maCspIN7uFuo"
      },
      "source": [
        "\n",
        "# Average PREDICTED rating for each item\n",
        "test_preds_df.mean().head()"
      ],
      "execution_count": null,
      "outputs": []
    },
    {
      "cell_type": "code",
      "metadata": {
        "id": "gM4PHqCruKwo"
      },
      "source": [
        "rmse_df = pd.concat([test_final_ratings_matrix.mean(), test_preds_df.mean()], axis=1)\n",
        "rmse_df.columns = ['Avg_actual_quantity', 'Avg_predicted_quantity']\n",
        "print(rmse_df.shape)\n",
        "rmse_df['item_index'] = np.arange(0, rmse_df.shape[0], 1)\n",
        "rmse_df.head()"
      ],
      "execution_count": null,
      "outputs": []
    },
    {
      "cell_type": "code",
      "metadata": {
        "id": "a8tVu0a0uXG7"
      },
      "source": [
        "U, sigma, Vt = svds(final_ratings_matrix, k = 10)\n",
        "# Construct diagonal array in SVD\n",
        "sigma = np.diag(sigma)"
      ],
      "execution_count": null,
      "outputs": []
    },
    {
      "cell_type": "code",
      "metadata": {
        "id": "VU0Q1VLuud4I"
      },
      "source": [
        "\n",
        "predicted_ratings = np.dot(np.dot(U, sigma), Vt) \n",
        "\n",
        "# Predicted ratings\n",
        "preds_df = pd.DataFrame(predicted_ratings, columns = final_ratings_matrix.columns)"
      ],
      "execution_count": null,
      "outputs": []
    },
    {
      "cell_type": "code",
      "metadata": {
        "id": "K1A1kCm9ugpY"
      },
      "source": [
        "userID = 1267\n",
        "num_recommendations = 5\n",
        "recommend_items(userID, final_ratings_matrix, preds_df, num_recommendations)"
      ],
      "execution_count": null,
      "outputs": []
    },
    {
      "cell_type": "code",
      "metadata": {
        "id": "S0tg_dQ2ujz0"
      },
      "source": [
        ""
      ],
      "execution_count": null,
      "outputs": []
    }
  ]
}